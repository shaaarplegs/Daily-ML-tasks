{
 "cells": [
  {
   "cell_type": "markdown",
   "id": "270698cc-903a-47fa-a11c-d9af870d3752",
   "metadata": {},
   "source": [
    "# Introduction\n",
    "\n",
    "> In this notebook, we explore a unique approach to generating textual data that pivots around a specific theme: chess. The primary aim is to create a flexible generator capable of producing sentences that are either related to the game of chess or entirely unrelated, based on a simple toggle.\n",
    "\n",
    "\n",
    "> Such data can be used to practise difficult vectorization techniques, ML vs NN  for this particular case which allows me to refresh my memory on the different applicable vectorization techniques in NLP.\n",
    "\n",
    "\n",
    "# Strategy\n",
    "\n",
    "> 1. Keyword Categorization: We categorize our vocabulary into two sets: one related to chess (e.g., \"pawn\", \"checkmate\", \"bishop\") and another comprising general words unrelated to chess (e.g., \"apple\", \"music\", \"running\"). This categorization serves as the foundation for thematic relevance.\n",
    "\n",
    "> 2. Parameter-Driven Generation: Through a Boolean parameter (about_chess), users can specify whether the generated sentence should be about chess. This simple yet effective method allows for flexibility in the type of data generated.\n",
    "\n",
    "> 3. Randomization Techniques: We use randomization to select words from the appropriate category, decide on the length of the sentence, and determine the placement of commas. This approach ensures that each generated sentence is unique and that there is a semblance of the unpredictability inherent in natural language.\n",
    "\n",
    "> 4. Iterative Development: The function is designed to iterate a variable number of times to construct a sentence. During each iteration, it randomly decides whether to add a word directly or to intersperse a comma, thereby creating a \"sentence\" that is a somewhat chaotic yet interesting assembly of words."
   ]
  },
  {
   "cell_type": "code",
   "execution_count": 1,
   "id": "8e30bb87-05c0-4297-b7a3-246114f0cb6c",
   "metadata": {},
   "outputs": [],
   "source": [
    "import random\n",
    "\n",
    "def generate_sentence(about_chess=False):\n",
    "    # Words not related to chess\n",
    "    general_words = [\n",
    "        \"mountain\", \"river\", \"sky\", \"apple\", \"computer\", \"music\", \"book\", \"phone\", \n",
    "        \"running\", \"swimming\", \"jumping\", \"dancing\", \"eating\", \"sleeping\"\n",
    "    ]\n",
    "    \n",
    "    # Chess-related keywords\n",
    "    chess_keywords = [\n",
    "        \"checkmate\", \"pawn\", \"knight\", \"bishop\", \"rook\", \"queen\", \"king\", \"opening\", \n",
    "        \"middlegame\", \"endgame\", \"castling\", \"stalemate\", \"Elo rating\", \"FIDE\"\n",
    "    ]\n",
    "    \n",
    "    # Decide on a list of words to use based on about_chess parameter\n",
    "    words_to_use = chess_keywords if about_chess else general_words\n",
    "    \n",
    "    # Generate a random sentence\n",
    "    sentence = \"\"\n",
    "    for i in range(random.randint(5, 10)):  # Generate a sentence with 5 to 10 words\n",
    "        if sentence:  # Add comma randomly if not the first word\n",
    "            sentence += \", \" if random.random() > 0.5 else \" \"\n",
    "        sentence += random.choice(words_to_use)\n",
    "    \n",
    "    return sentence"
   ]
  },
  {
   "cell_type": "code",
   "execution_count": 2,
   "id": "7baa80f6-1b1f-44d0-8d7e-1fe7fde5ec62",
   "metadata": {},
   "outputs": [
    {
     "data": {
      "text/plain": [
       "'endgame endgame, pawn, checkmate knight knight, Elo rating king'"
      ]
     },
     "execution_count": 2,
     "metadata": {},
     "output_type": "execute_result"
    }
   ],
   "source": [
    "# Example usage\n",
    "about_chess = True  # Change this to False to generate a sentence not about chess\n",
    "generated_sentence = generate_sentence(about_chess)\n",
    "generated_sentence"
   ]
  },
  {
   "cell_type": "code",
   "execution_count": 3,
   "id": "ba454711-1dbb-47e7-a38b-6de4f43c96c4",
   "metadata": {},
   "outputs": [
    {
     "data": {
      "text/plain": [
       "'apple eating, jumping music running'"
      ]
     },
     "execution_count": 3,
     "metadata": {},
     "output_type": "execute_result"
    }
   ],
   "source": [
    "about_chess = False\n",
    "generated_sentence = generate_sentence(about_chess)\n",
    "generated_sentence"
   ]
  },
  {
   "cell_type": "code",
   "execution_count": 6,
   "id": "fc168a60-bf41-4752-b527-944f28527bfd",
   "metadata": {},
   "outputs": [],
   "source": [
    "import pandas as pd\n",
    "\n",
    "def batch_generate_sentences(generate_sentence_func, n=10, randomness_percent=50, to_csv=False):\n",
    "    \"\"\"\n",
    "    Generate a batch of sentences, some about chess and some not, based on a specified randomness percentage.\n",
    "    \n",
    "    :param generate_sentence_func: Function to generate individual sentences.\n",
    "    :param n: Total number of sentences to generate.\n",
    "    :param randomness_percent: Percentage of sentences that should be about chess.\n",
    "    :param to_csv: Whether to save the output as a CSV file.\n",
    "    :return: Pandas DataFrame with the generated sentences and their classification.\n",
    "    \"\"\"\n",
    "    data = []\n",
    "    num_chess = int((randomness_percent / 100) * n)  # Calculate the number of chess-related sentences\n",
    "    \n",
    "    for _ in range(num_chess):\n",
    "        sentence = generate_sentence_func(True)\n",
    "        data.append([sentence, \"CHESS\"])\n",
    "        \n",
    "    for _ in range(n - num_chess):\n",
    "        sentence = generate_sentence_func(False)\n",
    "        data.append([sentence, \"OTHER\"])\n",
    "    \n",
    "    # Shuffle the data to mix CHESS and OTHER sentences\n",
    "    random.shuffle(data)\n",
    "    \n",
    "    # Create a DataFrame\n",
    "    df = pd.DataFrame(data, columns=['Generated Sentence', 'About'])\n",
    "    \n",
    "    # Save to CSV if required\n",
    "    if to_csv:\n",
    "        df.to_csv(\"generated_sentences.csv\", index=False)\n",
    "    \n",
    "    return df"
   ]
  },
  {
   "cell_type": "code",
   "execution_count": 8,
   "id": "a22c9934-a544-4ade-b46f-407fd34e11fb",
   "metadata": {},
   "outputs": [
    {
     "data": {
      "text/html": [
       "<div>\n",
       "<style scoped>\n",
       "    .dataframe tbody tr th:only-of-type {\n",
       "        vertical-align: middle;\n",
       "    }\n",
       "\n",
       "    .dataframe tbody tr th {\n",
       "        vertical-align: top;\n",
       "    }\n",
       "\n",
       "    .dataframe thead th {\n",
       "        text-align: right;\n",
       "    }\n",
       "</style>\n",
       "<table border=\"1\" class=\"dataframe\">\n",
       "  <thead>\n",
       "    <tr style=\"text-align: right;\">\n",
       "      <th></th>\n",
       "      <th>Generated Sentence</th>\n",
       "      <th>About</th>\n",
       "    </tr>\n",
       "  </thead>\n",
       "  <tbody>\n",
       "    <tr>\n",
       "      <th>0</th>\n",
       "      <td>king, endgame rook rook bishop FIDE pawn castling</td>\n",
       "      <td>CHESS</td>\n",
       "    </tr>\n",
       "    <tr>\n",
       "      <th>1</th>\n",
       "      <td>dancing phone running jumping, mountain</td>\n",
       "      <td>OTHER</td>\n",
       "    </tr>\n",
       "    <tr>\n",
       "      <th>2</th>\n",
       "      <td>bishop, Elo rating pawn pawn, knight, rook kni...</td>\n",
       "      <td>CHESS</td>\n",
       "    </tr>\n",
       "    <tr>\n",
       "      <th>3</th>\n",
       "      <td>river apple, phone, mountain, eating apple, ri...</td>\n",
       "      <td>OTHER</td>\n",
       "    </tr>\n",
       "    <tr>\n",
       "      <th>4</th>\n",
       "      <td>FIDE, knight pawn, pawn stalemate rook</td>\n",
       "      <td>CHESS</td>\n",
       "    </tr>\n",
       "    <tr>\n",
       "      <th>...</th>\n",
       "      <td>...</td>\n",
       "      <td>...</td>\n",
       "    </tr>\n",
       "    <tr>\n",
       "      <th>9995</th>\n",
       "      <td>king, rook opening castling knight</td>\n",
       "      <td>CHESS</td>\n",
       "    </tr>\n",
       "    <tr>\n",
       "      <th>9996</th>\n",
       "      <td>apple, music, music, music, running sky phone,...</td>\n",
       "      <td>OTHER</td>\n",
       "    </tr>\n",
       "    <tr>\n",
       "      <th>9997</th>\n",
       "      <td>sky, computer dancing sleeping apple, running ...</td>\n",
       "      <td>OTHER</td>\n",
       "    </tr>\n",
       "    <tr>\n",
       "      <th>9998</th>\n",
       "      <td>middlegame opening knight middlegame, queen, q...</td>\n",
       "      <td>CHESS</td>\n",
       "    </tr>\n",
       "    <tr>\n",
       "      <th>9999</th>\n",
       "      <td>mountain computer, sky jumping sleeping apple</td>\n",
       "      <td>OTHER</td>\n",
       "    </tr>\n",
       "  </tbody>\n",
       "</table>\n",
       "<p>10000 rows × 2 columns</p>\n",
       "</div>"
      ],
      "text/plain": [
       "                                     Generated Sentence  About\n",
       "0     king, endgame rook rook bishop FIDE pawn castling  CHESS\n",
       "1               dancing phone running jumping, mountain  OTHER\n",
       "2     bishop, Elo rating pawn pawn, knight, rook kni...  CHESS\n",
       "3     river apple, phone, mountain, eating apple, ri...  OTHER\n",
       "4                FIDE, knight pawn, pawn stalemate rook  CHESS\n",
       "...                                                 ...    ...\n",
       "9995                 king, rook opening castling knight  CHESS\n",
       "9996  apple, music, music, music, running sky phone,...  OTHER\n",
       "9997  sky, computer dancing sleeping apple, running ...  OTHER\n",
       "9998  middlegame opening knight middlegame, queen, q...  CHESS\n",
       "9999      mountain computer, sky jumping sleeping apple  OTHER\n",
       "\n",
       "[10000 rows x 2 columns]"
      ]
     },
     "execution_count": 8,
     "metadata": {},
     "output_type": "execute_result"
    }
   ],
   "source": [
    "# Example usage with previously defined generate_sentence function and specific parameters\n",
    "df_example = batch_generate_sentences(generate_sentence, n=10000, randomness_percent=55, to_csv=True)\n",
    "df_example"
   ]
  }
 ],
 "metadata": {
  "kernelspec": {
   "display_name": "Python 3 (ipykernel)",
   "language": "python",
   "name": "python3"
  },
  "language_info": {
   "codemirror_mode": {
    "name": "ipython",
    "version": 3
   },
   "file_extension": ".py",
   "mimetype": "text/x-python",
   "name": "python",
   "nbconvert_exporter": "python",
   "pygments_lexer": "ipython3",
   "version": "3.10.6"
  }
 },
 "nbformat": 4,
 "nbformat_minor": 5
}
